{
 "cells": [
  {
   "cell_type": "markdown",
   "metadata": {
    "colab_type": "text",
    "id": "t73D55BwFKO8"
   },
   "source": [
    "**Importing Requisites**"
   ]
  },
  {
   "cell_type": "code",
   "execution_count": 1,
   "metadata": {
    "colab": {
     "base_uri": "https://localhost:8080/",
     "height": 17
    },
    "colab_type": "code",
    "id": "hY01Z8ZfP-Wy",
    "outputId": "7ac04e84-9572-4ea3-fff6-29428ca12d5f"
   },
   "outputs": [
    {
     "name": "stdout",
     "output_type": "stream",
     "text": [
      "\u001b[31mtensorboard 1.8.0 has requirement bleach==1.5.0, but you'll have bleach 2.1.3 which is incompatible.\u001b[0m\r\n",
      "\u001b[31mtensorboard 1.8.0 has requirement html5lib==0.9999999, but you'll have html5lib 1.0.1 which is incompatible.\u001b[0m\r\n"
     ]
    }
   ],
   "source": [
    "from os import path\n",
    "from wheel.pep425tags import get_abbr_impl, get_impl_ver, get_abi_tag\n",
    "\n",
    "platform = '{}{}-{}'.format(get_abbr_impl(), get_impl_ver(), get_abi_tag())\n",
    "\n",
    "accelerator = 'cu80' if path.exists('/opt/bin/nvidia-smi') else 'cpu'\n",
    "\n",
    "!pip install -q http://download.pytorch.org/whl/{accelerator}/torch-0.4.0-{platform}-linux_x86_64.whl torchvision"
   ]
  },
  {
   "cell_type": "code",
   "execution_count": 2,
   "metadata": {
    "colab": {
     "base_uri": "https://localhost:8080/",
     "height": 17
    },
    "colab_type": "code",
    "id": "woMCP4fJFKO_",
    "outputId": "19617fec-6243-48de-c7db-ea076a9f1bd5"
   },
   "outputs": [],
   "source": [
    "import torch\n",
    "import torch.nn as nn\n",
    "import torchvision\n",
    "import torchvision.transforms as transforms\n",
    "from torch.autograd import Variable\n",
    "import torch.nn.functional as F\n",
    "\n",
    "import matplotlib.pyplot as plt\n",
    "import numpy as np\n",
    "\n",
    "import sys\n",
    "import warnings\n",
    "\n",
    "if not sys.warnoptions:\n",
    "    warnings.simplefilter(\"ignore\")"
   ]
  },
  {
   "cell_type": "markdown",
   "metadata": {
    "colab_type": "text",
    "id": "KNq07pbdFKPF"
   },
   "source": [
    "``**LOADING DATA**``"
   ]
  },
  {
   "cell_type": "markdown",
   "metadata": {
    "colab_type": "text",
    "id": "t_zoktTtFKPH"
   },
   "source": [
    "Normalize a tensor image with mean and standard deviation.\n",
    "Given mean: ``(M1,...,Mn)`` and std: ``(S1,..,Sn)`` for ``n`` channels, this transform\n",
    "will normalize each channel of the input ``torch.*Tensor`` i.e.\n",
    "``input[channel] = (input[channel] - mean[channel]) / std[channel]``"
   ]
  },
  {
   "cell_type": "code",
   "execution_count": 3,
   "metadata": {
    "colab": {
     "base_uri": "https://localhost:8080/",
     "height": 17
    },
    "colab_type": "code",
    "id": "_PGNBCVBFKPI",
    "outputId": "da88bd64-f583-4c09-a6e5-c7e6ec693617"
   },
   "outputs": [],
   "source": [
    "transform  = transforms.Compose([transforms.ToTensor(),\n",
    "                                        transforms.Normalize((0.5, 0.5, 0.5), (0.5, 0.5, 0.5))])\n",
    "\n",
    "trainset = torchvision.datasets.FashionMNIST(root='./fashionMNIST/', train=True,\n",
    "                                        download=True, transform=transform)\n",
    "\n",
    "\n",
    "testset = torchvision.datasets.FashionMNIST(root='./fashionMNIST/', train=False,\n",
    "                                       download=True, transform=transform)"
   ]
  },
  {
   "cell_type": "code",
   "execution_count": 4,
   "metadata": {
    "colab": {
     "base_uri": "https://localhost:8080/",
     "height": 34
    },
    "colab_type": "code",
    "id": "ptXn0S_fFKPN",
    "outputId": "6081c1be-5610-4290-8d17-1e0972f10b3f"
   },
   "outputs": [
    {
     "name": "stdout",
     "output_type": "stream",
     "text": [
      "The Length of Train set is : 60000 and of Test set is 10000\n"
     ]
    }
   ],
   "source": [
    "print('The Length of Train set is : {} and of Test set is {}'.format(len(trainset), len(testset)))"
   ]
  },
  {
   "cell_type": "markdown",
   "metadata": {},
   "source": [
    "**Setting contraints like ``batch size``, ``epochs``, ``learning rate``**"
   ]
  },
  {
   "cell_type": "code",
   "execution_count": 5,
   "metadata": {
    "colab": {
     "base_uri": "https://localhost:8080/",
     "height": 17
    },
    "colab_type": "code",
    "id": "LeZKPLNuFKPZ",
    "outputId": "b87811ad-57c9-46ac-f97b-755a8025ff9b"
   },
   "outputs": [],
   "source": [
    "batch_size = 100\n",
    "n_iters = 5500\n",
    "num_epochs = n_iters / (len(trainset) / batch_size)\n",
    "num_epochs = int(num_epochs)\n",
    "\n",
    "learning_rate = 0.001"
   ]
  },
  {
   "cell_type": "markdown",
   "metadata": {},
   "source": [
    "<b>class torch.utils.data.DataLoader(dataset, batch_size=1, shuffle=False, sampler=None, batch_sampler=None, num_workers=0, collate_fn=<function default_collate>, pin_memory=False, drop_last=False, timeout=0, worker_init_fn=None)</b>\n",
    "    \n",
    "**Data loader. Combines a dataset and a sampler, and provides single- or multi-process iterators over the dataset.**\n",
    "\n",
    "Parameters:\t\n",
    "- dataset (Dataset) – dataset from which to load the data.\n",
    "- batch_size (int, optional) – how many samples per batch to load (default: 1).\n",
    "- shuffle (bool, optional) – set to True to have the data reshuffled at every epoch (default: False).\n",
    "- sampler (Sampler, optional) – defines the strategy to draw samples from the dataset. If specified, shuffle must be False.\n",
    "- batch_sampler (Sampler, optional) – like sampler, but returns a batch of indices at a time. Mutually exclusive with batch_size, shuffle, sampler, and drop_last.\n",
    "- num_workers (int, optional) – how many subprocesses to use for data loading. 0 means that the data will be loaded in the main process. (default: 0)\n",
    "- collate_fn (callable, optional) – merges a list of samples to form a mini-batch.\n",
    "- pin_memory (bool, optional) – If True, the data loader will copy tensors into CUDA pinned memory before returning them.\n",
    "- drop_last (bool, optional) – set to True to drop the last incomplete batch, if the dataset size is not divisible by the batch size. If False and the size of dataset is not divisible by the batch size, then the last batch will be smaller. (default: False)\n",
    "- timeout (numeric, optional) – if positive, the timeout value for collecting a batch from workers. Should always be non-negative. (default: 0)\n",
    "- worker_init_fn (callable, optional) – If not None, this will be called on each worker subprocess with the worker id (an int in [0, num_workers - 1]) as input, after seeding and before data loading. (default: None)"
   ]
  },
  {
   "cell_type": "code",
   "execution_count": 6,
   "metadata": {
    "colab": {
     "base_uri": "https://localhost:8080/",
     "height": 17
    },
    "colab_type": "code",
    "id": "i2QWCgT1FKPh",
    "outputId": "684d92ba-898a-44a4-ca35-29022cd3225b"
   },
   "outputs": [],
   "source": [
    "train_loader = torch.utils.data.DataLoader(dataset=trainset, \n",
    "                                           batch_size=batch_size,            \n",
    "                                           shuffle=True)\n",
    "\n",
    "test_loader = torch.utils.data.DataLoader(dataset=testset, \n",
    "                                          batch_size=batch_size, \n",
    "                                          shuffle=False)"
   ]
  },
  {
   "cell_type": "markdown",
   "metadata": {
    "colab_type": "text",
    "id": "RpRw8170FKPm"
   },
   "source": [
    "**Making Dictionary assigining label name to labels**"
   ]
  },
  {
   "cell_type": "code",
   "execution_count": 7,
   "metadata": {
    "colab": {
     "base_uri": "https://localhost:8080/",
     "height": 17
    },
    "colab_type": "code",
    "id": "DoLox2KZFKPn",
    "outputId": "969de494-6a9b-4f58-84c2-4dce42e6f053"
   },
   "outputs": [],
   "source": [
    "classes = {0 : 'T-Shirt/Top', 1 : 'Trouser', 2 : 'Pullover', 3 : 'Dress',\n",
    "           4 : 'Coat', 5 : 'Sandal', 6 : 'Shirt', 7 : 'Sneaker', 8 : 'Bag',\n",
    "           9 : 'Ankle boot'}"
   ]
  },
  {
   "cell_type": "markdown",
   "metadata": {
    "colab_type": "text",
    "id": "KauR678BFKPt"
   },
   "source": [
    "** Lets Plot some of the data **"
   ]
  },
  {
   "cell_type": "code",
   "execution_count": 8,
   "metadata": {
    "colab": {
     "base_uri": "https://localhost:8080/",
     "height": 17
    },
    "colab_type": "code",
    "id": "nT2qylvTFKPv",
    "outputId": "8f5bb7d8-4639-4e58-ba09-6253025f3cbe"
   },
   "outputs": [],
   "source": [
    "def imshow(image, label):\n",
    "    plt.title(classes[label])\n",
    "    plt.imshow(image.reshape(28, 28), cmap = 'Greys', interpolation = 'nearest')"
   ]
  },
  {
   "cell_type": "code",
   "execution_count": 9,
   "metadata": {
    "colab": {
     "base_uri": "https://localhost:8080/",
     "height": 585
    },
    "colab_type": "code",
    "id": "6pGLPMfqFKP0",
    "outputId": "fd9e3525-20df-477d-a13c-e323b1d021e0"
   },
   "outputs": [
    {
     "data": {
      "image/png": "[encoded data removed]",
      "text/plain": [
       "<matplotlib.figure.Figure at 0x7f2ca5c67e48>"
      ]
     },
     "metadata": {},
     "output_type": "display_data"
    }
   ],
   "source": [
    "fig = plt.figure(figsize=(10,10))\n",
    "column = 5\n",
    "row = 4\n",
    "\n",
    "for num in range(0, 20):\n",
    "    image, label = trainset.train_data[num], trainset.train_labels[num].item()\n",
    "    num += 1\n",
    "    fig.add_subplot(row, column, num)\n",
    "    imshow(image, label)"
   ]
  },
  {
   "cell_type": "markdown",
   "metadata": {},
   "source": [
    "**Defining ``Convnet``**\n",
    "\n",
    "We have three layer network with Two convolutional layer and One fully connected layer.\n",
    "The architecture for this follows as:\n",
    "1. Convolutional Layer\n",
    "Filter 5x5 with stride of 1 and padding of 2.\n",
    "2. Batch Normalization Layer\n",
    "Batch Normalization normalizes the output of a previous activation layer by subtracting the batch mean and dividing by the batch standard deviation.\n",
    "3. ReLU Layer\n",
    "4. Pool Layer\n",
    "Max pool of filter 2x2 and stride of 2\n",
    "\n",
    "Conv layer -->> Batch Norm Layer -->> ReLU non linearity -->> Max Pool layer -->> Conv layer -->> Batch Norm layer -->> ReLU Nonlinearity -->> Max Pool layer -->> Fully Connected layer"
   ]
  },
  {
   "cell_type": "code",
   "execution_count": 10,
   "metadata": {
    "colab": {
     "base_uri": "https://localhost:8080/",
     "height": 17
    },
    "colab_type": "code",
    "id": "_DjFYFpCFKP8",
    "outputId": "5cc51715-6e9e-4b15-a797-cef1c9bf644e"
   },
   "outputs": [],
   "source": [
    "class convnet1(nn.Module):\n",
    "    def __init__(self):\n",
    "        super(convnet1, self).__init__()\n",
    "        \n",
    "        # Constraints for layer 1\n",
    "        self.conv1 = nn.Conv2d(in_channels=1, out_channels=16, kernel_size=5, stride = 1, padding=2)\n",
    "        self.batch1 = nn.BatchNorm2d(16)\n",
    "        self.relu1 = nn.ReLU()\n",
    "        self.pool1 = nn.MaxPool2d(kernel_size=2) #default stride is equivalent to the kernel_size\n",
    "        \n",
    "        # Constraints for layer 2\n",
    "        self.conv2 = nn.Conv2d(in_channels=16, out_channels=32, kernel_size=5, stride = 1, padding=2)\n",
    "        self.batch2 = nn.BatchNorm2d(32)\n",
    "        self.relu2 = nn.ReLU()\n",
    "        self.pool2 = nn.MaxPool2d(kernel_size=2)\n",
    "        \n",
    "        # Defining the Linear layer\n",
    "        self.fc = nn.Linear(32*7*7, 10)\n",
    "    \n",
    "    # defining the network flow\n",
    "    def forward(self, x):\n",
    "        # Conv 1\n",
    "        out = self.conv1(x)\n",
    "        out = self.batch1(out)\n",
    "        out = self.relu1(out)\n",
    "        \n",
    "        # Max Pool 1\n",
    "        out = self.pool1(out)\n",
    "        \n",
    "        # Conv 2\n",
    "        out = self.conv2(out)\n",
    "        out = self.batch2(out)\n",
    "        out = self.relu2(out)\n",
    "        \n",
    "        # Max Pool 2\n",
    "        out = self.pool2(out)\n",
    "        \n",
    "        out = out.view(out.size(0), -1)\n",
    "        # Linear Layer\n",
    "        out = self.fc(out)\n",
    "        \n",
    "        return out"
   ]
  },
  {
   "cell_type": "code",
   "execution_count": 11,
   "metadata": {
    "colab": {
     "base_uri": "https://localhost:8080/",
     "height": 17
    },
    "colab_type": "code",
    "id": "0D6DQCQIFKQE",
    "outputId": "7938ee88-4462-4947-8ba2-7b4eebeaa813"
   },
   "outputs": [],
   "source": [
    "model = convnet1()"
   ]
  },
  {
   "cell_type": "code",
   "execution_count": 12,
   "metadata": {
    "colab": {
     "base_uri": "https://localhost:8080/",
     "height": 204
    },
    "colab_type": "code",
    "id": "ZTMmKm54FKQJ",
    "outputId": "c649c695-63c4-4f97-d747-e019020cf84f"
   },
   "outputs": [
    {
     "data": {
      "text/plain": [
       "<bound method Module.parameters of convnet1(\n",
       "  (conv1): Conv2d(1, 16, kernel_size=(5, 5), stride=(1, 1), padding=(2, 2))\n",
       "  (batch1): BatchNorm2d(16, eps=1e-05, momentum=0.1, affine=True, track_running_stats=True)\n",
       "  (relu1): ReLU()\n",
       "  (pool1): MaxPool2d(kernel_size=2, stride=2, padding=0, dilation=1, ceil_mode=False)\n",
       "  (conv2): Conv2d(16, 32, kernel_size=(5, 5), stride=(1, 1), padding=(2, 2))\n",
       "  (batch2): BatchNorm2d(32, eps=1e-05, momentum=0.1, affine=True, track_running_stats=True)\n",
       "  (relu2): ReLU()\n",
       "  (pool2): MaxPool2d(kernel_size=2, stride=2, padding=0, dilation=1, ceil_mode=False)\n",
       "  (fc): Linear(in_features=1568, out_features=10, bias=True)\n",
       ")>"
      ]
     },
     "execution_count": 12,
     "metadata": {},
     "output_type": "execute_result"
    }
   ],
   "source": [
    "model.parameters"
   ]
  },
  {
   "cell_type": "markdown",
   "metadata": {
    "colab_type": "text",
    "id": "Wz2LUr7WFKQQ"
   },
   "source": [
    "**Defining ``Loss Function`` and ``Optimizer``**"
   ]
  },
  {
   "cell_type": "code",
   "execution_count": 13,
   "metadata": {
    "colab": {
     "base_uri": "https://localhost:8080/",
     "height": 17
    },
    "colab_type": "code",
    "id": "JolOC_z3FKQR",
    "outputId": "bbb4594f-ebb6-4004-cbee-b4c563088fef"
   },
   "outputs": [],
   "source": [
    "criterion = nn.CrossEntropyLoss()\n",
    "\n",
    "optimizer = torch.optim.Adam(model.parameters(), lr = learning_rate)"
   ]
  },
  {
   "cell_type": "markdown",
   "metadata": {
    "colab_type": "text",
    "id": "_niVRABEFKQY"
   },
   "source": [
    "**Start training model**"
   ]
  },
  {
   "cell_type": "code",
   "execution_count": 14,
   "metadata": {
    "colab": {
     "base_uri": "https://localhost:8080/",
     "height": 935
    },
    "colab_type": "code",
    "id": "IA2Mma2YFKQb",
    "outputId": "e8c9cd7f-efbd-41b7-f525-bcaf4240f664"
   },
   "outputs": [
    {
     "name": "stdout",
     "output_type": "stream",
     "text": [
      "Epoch : 1/9, Iter : 100/600,  Loss: 0.5050\n",
      "Epoch : 1/9, Iter : 200/600,  Loss: 0.3706\n",
      "Epoch : 1/9, Iter : 300/600,  Loss: 0.4785\n",
      "Epoch : 1/9, Iter : 400/600,  Loss: 0.4838\n",
      "Epoch : 1/9, Iter : 500/600,  Loss: 0.2988\n",
      "Epoch : 1/9, Iter : 600/600,  Loss: 0.2836\n",
      "Epoch : 2/9, Iter : 100/600,  Loss: 0.2311\n",
      "Epoch : 2/9, Iter : 200/600,  Loss: 0.3951\n",
      "Epoch : 2/9, Iter : 300/600,  Loss: 0.3239\n",
      "Epoch : 2/9, Iter : 400/600,  Loss: 0.2617\n",
      "Epoch : 2/9, Iter : 500/600,  Loss: 0.3622\n",
      "Epoch : 2/9, Iter : 600/600,  Loss: 0.3495\n",
      "Epoch : 3/9, Iter : 100/600,  Loss: 0.1733\n",
      "Epoch : 3/9, Iter : 200/600,  Loss: 0.3492\n",
      "Epoch : 3/9, Iter : 300/600,  Loss: 0.4085\n",
      "Epoch : 3/9, Iter : 400/600,  Loss: 0.1587\n",
      "Epoch : 3/9, Iter : 500/600,  Loss: 0.3578\n",
      "Epoch : 3/9, Iter : 600/600,  Loss: 0.3161\n",
      "Epoch : 4/9, Iter : 100/600,  Loss: 0.2318\n",
      "Epoch : 4/9, Iter : 200/600,  Loss: 0.2255\n",
      "Epoch : 4/9, Iter : 300/600,  Loss: 0.2611\n",
      "Epoch : 4/9, Iter : 400/600,  Loss: 0.2684\n",
      "Epoch : 4/9, Iter : 500/600,  Loss: 0.4423\n",
      "Epoch : 4/9, Iter : 600/600,  Loss: 0.2847\n",
      "Epoch : 5/9, Iter : 100/600,  Loss: 0.1660\n",
      "Epoch : 5/9, Iter : 200/600,  Loss: 0.1697\n",
      "Epoch : 5/9, Iter : 300/600,  Loss: 0.1925\n",
      "Epoch : 5/9, Iter : 400/600,  Loss: 0.2448\n",
      "Epoch : 5/9, Iter : 500/600,  Loss: 0.3143\n",
      "Epoch : 5/9, Iter : 600/600,  Loss: 0.1084\n",
      "Epoch : 6/9, Iter : 100/600,  Loss: 0.2264\n",
      "Epoch : 6/9, Iter : 200/600,  Loss: 0.3375\n",
      "Epoch : 6/9, Iter : 300/600,  Loss: 0.2319\n",
      "Epoch : 6/9, Iter : 400/600,  Loss: 0.1882\n",
      "Epoch : 6/9, Iter : 500/600,  Loss: 0.1944\n",
      "Epoch : 6/9, Iter : 600/600,  Loss: 0.1664\n",
      "Epoch : 7/9, Iter : 100/600,  Loss: 0.1564\n",
      "Epoch : 7/9, Iter : 200/600,  Loss: 0.1144\n",
      "Epoch : 7/9, Iter : 300/600,  Loss: 0.0996\n",
      "Epoch : 7/9, Iter : 400/600,  Loss: 0.1430\n",
      "Epoch : 7/9, Iter : 500/600,  Loss: 0.2297\n",
      "Epoch : 7/9, Iter : 600/600,  Loss: 0.2263\n",
      "Epoch : 8/9, Iter : 100/600,  Loss: 0.1816\n",
      "Epoch : 8/9, Iter : 200/600,  Loss: 0.2986\n",
      "Epoch : 8/9, Iter : 300/600,  Loss: 0.1852\n",
      "Epoch : 8/9, Iter : 400/600,  Loss: 0.1294\n",
      "Epoch : 8/9, Iter : 500/600,  Loss: 0.1833\n",
      "Epoch : 8/9, Iter : 600/600,  Loss: 0.2237\n",
      "Epoch : 9/9, Iter : 100/600,  Loss: 0.1284\n",
      "Epoch : 9/9, Iter : 200/600,  Loss: 0.2137\n",
      "Epoch : 9/9, Iter : 300/600,  Loss: 0.2161\n",
      "Epoch : 9/9, Iter : 400/600,  Loss: 0.2045\n",
      "Epoch : 9/9, Iter : 500/600,  Loss: 0.4084\n",
      "Epoch : 9/9, Iter : 600/600,  Loss: 0.2770\n"
     ]
    }
   ],
   "source": [
    "losses = []\n",
    "\n",
    "for epoch in range(num_epochs):\n",
    "    for i, (images, labels) in enumerate(train_loader, 0):\n",
    "        images = Variable(images.float())\n",
    "        labels = Variable(labels)\n",
    "        \n",
    "        # Forward + Backward + Optimizer\n",
    "        optimizer.zero_grad()\n",
    "        outputs = model(images)\n",
    "        loss = criterion(outputs, labels)\n",
    "        loss.backward()\n",
    "        optimizer.step()\n",
    "        \n",
    "        losses.append(loss.data[0])\n",
    "        \n",
    "        if (i+1) % 100 == 0:\n",
    "            print ('Epoch : %d/%d, Iter : %d/%d,  Loss: %.4f' \n",
    "                   %(epoch+1, num_epochs, i+1,\\\n",
    "                     len(trainset)//batch_size, loss.data[0]))"
   ]
  },
  {
   "cell_type": "markdown",
   "metadata": {
    "colab_type": "text",
    "id": "2DKWD56iJSEa"
   },
   "source": [
    "**Saving the model**\n",
    "\n",
    "This will save only model parameters"
   ]
  },
  {
   "cell_type": "code",
   "execution_count": 16,
   "metadata": {
    "colab": {
     "base_uri": "https://localhost:8080/",
     "height": 17
    },
    "colab_type": "code",
    "id": "QemxW8u-Fj_s",
    "outputId": "58ce7947-7f16-405e-c574-bf2691cc4bff"
   },
   "outputs": [],
   "source": [
    "torch.save(model.state_dict(), './model/convnet1.pt')"
   ]
  },
  {
   "cell_type": "markdown",
   "metadata": {
    "colab_type": "text",
    "id": "T_NvcAlPK3ZE"
   },
   "source": [
    "**For loading the model**"
   ]
  },
  {
   "cell_type": "code",
   "execution_count": 17,
   "metadata": {
    "colab": {
     "base_uri": "https://localhost:8080/",
     "height": 17
    },
    "colab_type": "code",
    "id": "QIm7CPptJcb5",
    "outputId": "f4ca6d4e-3cad-4fd2-a6fa-48e3278057de"
   },
   "outputs": [],
   "source": [
    "conv1 = convnet1()\n",
    "conv1.load_state_dict(torch.load('./model/convnet1.pt'))"
   ]
  },
  {
   "cell_type": "markdown",
   "metadata": {
    "colab_type": "text",
    "id": "XLL3XCkKL396"
   },
   "source": [
    "**`Evaluating` the model**"
   ]
  },
  {
   "cell_type": "code",
   "execution_count": 18,
   "metadata": {
    "colab": {
     "base_uri": "https://localhost:8080/",
     "height": 34
    },
    "colab_type": "code",
    "id": "EGhp72_gL1j7",
    "outputId": "1108424a-c1ca-4613-f7b6-70744a46bd26"
   },
   "outputs": [
    {
     "name": "stdout",
     "output_type": "stream",
     "text": [
      "Test Accuracy of the model on the 10000 test images: 90.0000 %\n"
     ]
    }
   ],
   "source": [
    "\n",
    "correct = 0\n",
    "total = 0\n",
    "\n",
    "for images, labels in test_loader:\n",
    "  images = Variable(images.float())\n",
    "  \n",
    "  output = conv1(images)\n",
    "  _, predicted = torch.max(output.data, 1)\n",
    "  \n",
    "  total += labels.size(0)\n",
    "  correct += (predicted == labels).sum()\n",
    "\n",
    "  \n",
    "print('Test Accuracy of the model on the 10000 test images: %.4f %%' % (100 * correct / total))"
   ]
  },
  {
   "cell_type": "markdown",
   "metadata": {
    "colab": {
     "base_uri": "https://localhost:8080/",
     "height": 17
    },
    "colab_type": "code",
    "id": "5jHI0Rv3La0c",
    "outputId": "2edf29d0-c633-4479-dbb1-72e374c73713"
   },
   "source": [
    "** Plotting ``Losses``**"
   ]
  },
  {
   "cell_type": "code",
   "execution_count": 22,
   "metadata": {},
   "outputs": [
    {
     "data": {
      "image/png": "[encoded data removed]",
      "text/plain": [
       "<matplotlib.figure.Figure at 0x7f2c9f07a5f8>"
      ]
     },
     "metadata": {},
     "output_type": "display_data"
    }
   ],
   "source": [
    "loss = losses[0::100]\n",
    "plt.xlabel('Epoches')\n",
    "plt.ylabel('losses')\n",
    "plt.title('Loss Curve per Epoches')\n",
    "plt.plot(loss)\n",
    "plt.show()"
   ]
  },
  {
   "cell_type": "markdown",
   "metadata": {},
   "source": [
    "**DONE!**"
   ]
  }
 ],
 "metadata": {
  "accelerator": "GPU",
  "colab": {
   "name": "Fashion-MNIST Classification.ipynb",
   "provenance": [],
   "version": "0.3.2"
  },
  "kernelspec": {
   "display_name": "Python 3",
   "language": "python",
   "name": "python3"
  },
  "language_info": {
   "codemirror_mode": {
    "name": "ipython",
    "version": 3
   },
   "file_extension": ".py",
   "mimetype": "text/x-python",
   "name": "python",
   "nbconvert_exporter": "python",
   "pygments_lexer": "ipython3",
   "version": "3.6.4"
  }
 },
 "nbformat": 4,
 "nbformat_minor": 1
}
